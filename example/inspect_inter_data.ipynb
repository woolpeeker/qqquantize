{
 "cells": [
  {
   "cell_type": "code",
   "execution_count": 1,
   "metadata": {},
   "outputs": [],
   "source": [
    "import os\n",
    "os.chdir('../')"
   ]
  },
  {
   "cell_type": "code",
   "execution_count": 2,
   "metadata": {},
   "outputs": [],
   "source": [
    "import pickle\n",
    "inter_data = pickle.load(open('inter_data.pkl', 'rb'))"
   ]
  },
  {
   "cell_type": "code",
   "execution_count": 7,
   "metadata": {},
   "outputs": [
    {
     "data": {
      "text/plain": [
       "array([0.0625], dtype=float32)"
      ]
     },
     "execution_count": 7,
     "metadata": {},
     "output_type": "execute_result"
    }
   ],
   "source": [
    "inter_data['conv.0.conv.activation_post_process']['scale']"
   ]
  },
  {
   "cell_type": "code",
   "execution_count": 8,
   "metadata": {},
   "outputs": [
    {
     "name": "stdout",
     "output_type": "stream",
     "text": [
      "conv.0.conv.activation_post_process\n",
      "conv.0.conv.weight_fake_quant\n",
      "conv.0.bn.activation_post_process\n",
      "conv.0.relu.activation_post_process\n",
      "conv.1.conv.activation_post_process\n",
      "conv.1.conv.weight_fake_quant\n",
      "conv.1.bn.activation_post_process\n",
      "conv.1.relu.activation_post_process\n",
      "conv.2.conv.activation_post_process\n",
      "conv.2.conv.weight_fake_quant\n",
      "conv.2.bn.activation_post_process\n",
      "conv.2.relu.activation_post_process\n",
      "conv.3.conv.activation_post_process\n",
      "conv.3.conv.weight_fake_quant\n",
      "conv.3.bn.activation_post_process\n",
      "conv.3.relu.activation_post_process\n",
      "conv.4.conv.activation_post_process\n",
      "conv.4.conv.weight_fake_quant\n",
      "conv.4.bn.activation_post_process\n",
      "conv.4.relu.activation_post_process\n",
      "fc.0.linear.activation_post_process\n",
      "fc.0.linear.weight_fake_quant\n",
      "fc.0.relu.activation_post_process\n",
      "fc.1.activation_post_process\n",
      "fc.2.activation_post_process\n",
      "fc.2.weight_fake_quant\n"
     ]
    }
   ],
   "source": [
    "for k in inter_data.keys():\n",
    "    print(k)"
   ]
  },
  {
   "cell_type": "code",
   "execution_count": null,
   "metadata": {},
   "outputs": [],
   "source": []
  }
 ],
 "metadata": {
  "kernelspec": {
   "display_name": "Python 3",
   "language": "python",
   "name": "python3"
  },
  "language_info": {
   "codemirror_mode": {
    "name": "ipython",
    "version": 3
   },
   "file_extension": ".py",
   "mimetype": "text/x-python",
   "name": "python",
   "nbconvert_exporter": "python",
   "pygments_lexer": "ipython3",
   "version": "3.7.4"
  }
 },
 "nbformat": 4,
 "nbformat_minor": 4
}
